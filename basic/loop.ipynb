{
 "cells": [
  {
   "cell_type": "markdown",
   "id": "eeea5e87",
   "metadata": {},
   "source": [
    "### Loop\n",
    "\n",
    "1. while \n",
    "2. for"
   ]
  },
  {
   "cell_type": "markdown",
   "id": "39082fc8",
   "metadata": {},
   "source": [
    "# iterator\n",
    "<!-- python -->\n",
    "1. string, set, list, tuple, dictionary\n",
    "\n",
    "<!-- Index -->"
   ]
  },
  {
   "cell_type": "code",
   "execution_count": 8,
   "id": "c6dc8d61",
   "metadata": {},
   "outputs": [],
   "source": [
    "x = \"Python\"\n",
    "# => 0, 1, 2, 3, 4. .............\n",
    "# <= -1 , -2 , -3  ............\n",
    "\n",
    "x = list(range(0, 10))"
   ]
  },
  {
   "cell_type": "code",
   "execution_count": 8,
   "id": "c84fc8c1",
   "metadata": {},
   "outputs": [
    {
     "name": "stdout",
     "output_type": "stream",
     "text": [
      "\n"
     ]
    }
   ],
   "source": [
    "x = \"Python\"\n",
    "\n",
    "y = ''\n",
    "for i in x:\n",
    "    if (i == 'h'):\n",
    "        break\n",
    "    else:\n",
    "        y = i + y\n",
    "    print(y)\n",
    "\n",
    "print(y)"
   ]
  },
  {
   "cell_type": "markdown",
   "id": "a3bb28a9",
   "metadata": {},
   "source": [
    "# While loop"
   ]
  },
  {
   "cell_type": "code",
   "execution_count": 2,
   "id": "c35ccf8d",
   "metadata": {},
   "outputs": [
    {
     "name": "stdout",
     "output_type": "stream",
     "text": [
      "3\n",
      "5\n",
      "7\n",
      "9\n",
      "11\n",
      "13\n",
      "15\n",
      "17\n",
      "19\n",
      "21\n",
      "23\n",
      "25\n",
      "27\n",
      "29\n",
      "31\n",
      "33\n",
      "35\n",
      "37\n",
      "39\n",
      "41\n",
      "43\n",
      "45\n",
      "47\n",
      "49\n",
      "51\n",
      "53\n",
      "55\n",
      "57\n",
      "59\n",
      "61\n",
      "63\n",
      "65\n",
      "67\n",
      "69\n",
      "71\n",
      "73\n",
      "75\n",
      "77\n",
      "79\n",
      "81\n",
      "83\n",
      "85\n",
      "87\n",
      "89\n",
      "91\n",
      "93\n",
      "95\n",
      "97\n",
      "99\n"
     ]
    }
   ],
   "source": [
    "i = 1\n",
    "while i:\n",
    "    i += 1  # condition = condition + 1\n",
    "    if (i == 100):\n",
    "        break\n",
    "    elif (i % 2 == 0):\n",
    "        continue\n",
    "    print(i)\n",
    "\n",
    "    # Execute code"
   ]
  },
  {
   "cell_type": "code",
   "execution_count": 17,
   "id": "46b976b8",
   "metadata": {},
   "outputs": [
    {
     "name": "stdout",
     "output_type": "stream",
     "text": [
      "667.4\n"
     ]
    }
   ],
   "source": [
    "c = float(input(\"enter c \"))\n",
    "f = (9/5)*c + 32\n",
    "print(f)"
   ]
  }
 ],
 "metadata": {
  "kernelspec": {
   "display_name": "Python 3 (ipykernel)",
   "language": "python",
   "name": "python3"
  },
  "language_info": {
   "codemirror_mode": {
    "name": "ipython",
    "version": 3
   },
   "file_extension": ".py",
   "mimetype": "text/x-python",
   "name": "python",
   "nbconvert_exporter": "python",
   "pygments_lexer": "ipython3",
   "version": "3.12.1"
  }
 },
 "nbformat": 4,
 "nbformat_minor": 5
}
