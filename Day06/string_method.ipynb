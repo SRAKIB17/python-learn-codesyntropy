{
 "cells": [
  {
   "cell_type": "markdown",
   "id": "6d3a52ab",
   "metadata": {},
   "source": [
    "## String format"
   ]
  },
  {
   "cell_type": "code",
   "execution_count": 4,
   "id": "45a75022-4b67-4f05-a753-1cbd3a38b863",
   "metadata": {},
   "outputs": [
    {
     "name": "stdout",
     "output_type": "stream",
     "text": [
      "Hello python\n"
     ]
    }
   ],
   "source": [
    "def dynamic_function(name):\n",
    "    return f\"Hello {name}\"\n",
    "\n",
    "\n",
    "x = dynamic_function(\"python\")\n",
    "print(x)"
   ]
  },
  {
   "cell_type": "code",
   "execution_count": 11,
   "id": "fc7829cc",
   "metadata": {},
   "outputs": [
    {
     "name": "stdout",
     "output_type": "stream",
     "text": [
      "My name is Rakib\n",
      "Python version = 3.12\n"
     ]
    }
   ],
   "source": [
    "name = \"Rakib\"\n",
    "print(\"My name is %s\" % name)\n",
    "print(\"Python version = %s\" % 3.12)\n",
    "# %s = string\n",
    "# %i = integer\n",
    "# %f = float"
   ]
  },
  {
   "cell_type": "code",
   "execution_count": 13,
   "id": "da65a8ca",
   "metadata": {},
   "outputs": [
    {
     "name": "stdout",
     "output_type": "stream",
     "text": [
      "n\n"
     ]
    }
   ],
   "source": [
    "# Index\n",
    "# 0,1,2,3,4..\n",
    "# Python\n",
    "# left to right\n",
    "# 0, 1, 2, 3\n",
    "# right to left\n",
    "# -1, -2 , -3\n",
    "x = \"Python\""
   ]
  },
  {
   "cell_type": "code",
   "execution_count": 23,
   "id": "75ba8651",
   "metadata": {},
   "outputs": [
    {
     "name": "stdout",
     "output_type": "stream",
     "text": [
      "My name is Rakib. My favorite language is Python\n"
     ]
    }
   ],
   "source": [
    "x = \"My name is {}\"\n",
    "# print(x.format(\"Rakib\"))\n",
    "x = \"My name is {2}. My favorite language is {1}\"\n",
    "# print(x.format('Rakib', \"Python\"))\n",
    "\n",
    "x = \"My name is {name}. My favorite language is {language}\"\n",
    "print(x.format(language=\"Python\", name=\"Rakib\"))"
   ]
  },
  {
   "cell_type": "code",
   "execution_count": 26,
   "id": "494301cb",
   "metadata": {},
   "outputs": [
    {
     "name": "stdout",
     "output_type": "stream",
     "text": [
      "My name isRakib . My favorite language is Python\n"
     ]
    }
   ],
   "source": [
    "bio = {\n",
    "    \"name\": \"Rakib\",\n",
    "    \"favorite_language\": \"Python\"\n",
    "}\n",
    "x = f\"My name is {bio[\"name\"]} . My favorite language is {\n",
    "    bio['favorite_language']}\"\n",
    "\n",
    "print(x)"
   ]
  },
  {
   "cell_type": "code",
   "execution_count": 35,
   "id": "2cf154cb",
   "metadata": {},
   "outputs": [
    {
     "name": "stdout",
     "output_type": "stream",
     "text": [
      "PythonPythonPythonPythonPythonPythonPythonPythonPythonPython\n"
     ]
    }
   ],
   "source": [
    "# Add (+)\n",
    "x = \"Python\"\n",
    "space = \" \"\n",
    "y = \"Language\"\n",
    "# Multiply\n",
    "print(x * 10)"
   ]
  },
  {
   "cell_type": "markdown",
   "id": "08007df0",
   "metadata": {},
   "source": [
    "### Slice"
   ]
  },
  {
   "cell_type": "code",
   "execution_count": 39,
   "id": "04c348d9",
   "metadata": {},
   "outputs": [
    {
     "name": "stdout",
     "output_type": "stream",
     "text": [
      "Pyt\n"
     ]
    }
   ],
   "source": [
    "x = \"Python\"\n",
    "# ! x[include_index : not_include_index]\n",
    "print(x[0:3])"
   ]
  },
  {
   "cell_type": "code",
   "execution_count": 43,
   "id": "04f4028f",
   "metadata": {},
   "outputs": [
    {
     "name": "stdout",
     "output_type": "stream",
     "text": [
      "True\n"
     ]
    }
   ],
   "source": [
    "# Membership operator:\n",
    "print('x' not in x)"
   ]
  },
  {
   "cell_type": "code",
   "execution_count": 52,
   "id": "8b579267",
   "metadata": {},
   "outputs": [
    {
     "name": "stdout",
     "output_type": "stream",
     "text": [
      "Python is popular language.\n",
      "Version 3.12.\\.\n"
     ]
    }
   ],
   "source": [
    "x = \"\\rPython is popular language.\\nVersion 3.12.\\\\.\"\n",
    "print(x)"
   ]
  },
  {
   "cell_type": "code",
   "execution_count": 57,
   "id": "a0a7c76e",
   "metadata": {},
   "outputs": [
    {
     "name": "stdout",
     "output_type": "stream",
     "text": [
      "\bI'm a programmer\n"
     ]
    }
   ],
   "source": [
    "x = '\\bI\\'m a programmer'\n",
    "print(x)"
   ]
  },
  {
   "cell_type": "code",
   "execution_count": 69,
   "id": "ee2e6fc7",
   "metadata": {},
   "outputs": [
    {
     "name": "stdout",
     "output_type": "stream",
     "text": [
      "E\n"
     ]
    }
   ],
   "source": [
    "txt = \"\\x45\"\n",
    "print(txt)"
   ]
  }
 ],
 "metadata": {
  "kernelspec": {
   "display_name": "Python 3 (ipykernel)",
   "language": "python",
   "name": "python3"
  },
  "language_info": {
   "codemirror_mode": {
    "name": "ipython",
    "version": 3
   },
   "file_extension": ".py",
   "mimetype": "text/x-python",
   "name": "python",
   "nbconvert_exporter": "python",
   "pygments_lexer": "ipython3",
   "version": "3.12.1"
  }
 },
 "nbformat": 4,
 "nbformat_minor": 5
}
