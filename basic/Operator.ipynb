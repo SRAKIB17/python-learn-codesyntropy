{
 "cells": [
  {
   "cell_type": "markdown",
   "id": "451ee8b8",
   "metadata": {},
   "source": [
    "### Arithmetic operator"
   ]
  },
  {
   "cell_type": "code",
   "execution_count": 10,
   "id": "6b1c504f",
   "metadata": {},
   "outputs": [
    {
     "name": "stdout",
     "output_type": "stream",
     "text": [
      "-35\n"
     ]
    }
   ],
   "source": [
    "x = 19\n",
    "y = 3\n",
    "print((x+y)-x*y)"
   ]
  },
  {
   "cell_type": "code",
   "execution_count": 29,
   "id": "0bf6c7ee",
   "metadata": {},
   "outputs": [
    {
     "name": "stdout",
     "output_type": "stream",
     "text": [
      "True\n"
     ]
    }
   ],
   "source": [
    "# Condition\n",
    "x = 2\n",
    "if (not (x >= 10)):\n",
    "    # x > 10 or x == 10\n",
    "    print(\"True\")\n",
    "else:\n",
    "    print(\"False\")"
   ]
  },
  {
   "cell_type": "code",
   "execution_count": null,
   "id": "537650d5",
   "metadata": {},
   "outputs": [],
   "source": [
    "# and , or ,not"
   ]
  },
  {
   "cell_type": "code",
   "execution_count": 33,
   "id": "1c75f0f3",
   "metadata": {},
   "outputs": [
    {
     "name": "stdout",
     "output_type": "stream",
     "text": [
      "20\n"
     ]
    }
   ],
   "source": [
    "x = 10\n",
    "# x = x + 10\n",
    "# x += 10\n",
    "x = x - 10  # x -= 10\n",
    "x = x * 10  # x *= 10\n",
    "x = x / 10  # x /= 10\n",
    "x = x % 10  # x %= 10\n",
    "x = x // 3  # x //= 3\n",
    "print(x)"
   ]
  },
  {
   "cell_type": "code",
   "execution_count": 47,
   "id": "b13dfa01",
   "metadata": {},
   "outputs": [
    {
     "name": "stdout",
     "output_type": "stream",
     "text": [
      "True\n"
     ]
    }
   ],
   "source": [
    "x = 20\n",
    "y = 10\n",
    "# print(x is not y)\n",
    "\n",
    "x = \"python\"\n",
    "# print(\"P\" in x)\n",
    "basket = ['apple', 'orange', \"$1000\"]\n",
    "print(\"pen\" not in basket)\n",
    "\n",
    "# == , is"
   ]
  }
 ],
 "metadata": {
  "kernelspec": {
   "display_name": "Python 3 (ipykernel)",
   "language": "python",
   "name": "python3"
  },
  "language_info": {
   "codemirror_mode": {
    "name": "ipython",
    "version": 3
   },
   "file_extension": ".py",
   "mimetype": "text/x-python",
   "name": "python",
   "nbconvert_exporter": "python",
   "pygments_lexer": "ipython3",
   "version": "3.12.1"
  }
 },
 "nbformat": 4,
 "nbformat_minor": 5
}
