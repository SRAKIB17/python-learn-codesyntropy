{
 "cells": [
  {
   "cell_type": "code",
   "execution_count": 2,
   "metadata": {},
   "outputs": [
    {
     "name": "stdout",
     "output_type": "stream",
     "text": [
      "['oil', 'oil', 'oil', 'oil', 'oil', 'oil', 'oil', 'oil', 'oil', 'oil', 'oil', 'oil', 'oil', 'oil', 'oil', 'oil', 'oil']\n"
     ]
    }
   ],
   "source": [
    "oil = ['oil', \"sand😇\", 'oil', \"sand😇\", 'oil', \"sand😇\", 'oil', 'oil', 'oil', 'oil', 'oil',\n",
    "       'oil', 'oil', 'oil', 'oil', \"sand😇\", 'oil', 'oil', \"sand😇\", 'oil', 'oil', 'oil']\n",
    "\n",
    "# filter(function, itarator)\n",
    "\n",
    "# def filter_function(oil):\n",
    "#     return oil == 'oil'\n",
    "\n",
    "fltr = filter(lambda oil: oil == 'oil', oil)\n",
    "print(list(fltr))"
   ]
  },
  {
   "cell_type": "code",
   "execution_count": 6,
   "id": "ca42a717",
   "metadata": {},
   "outputs": [
    {
     "name": "stdout",
     "output_type": "stream",
     "text": [
      "['😁', '😁', '😁', '😁', '😁', '😁', '😁', '😁', '😁', '😁', '😁', '😁', '😁', '😁', '😁', '😁', '😁', '😁', '😁', '😁', '😁', '😁']\n"
     ]
    }
   ],
   "source": [
    "def water(oil):\n",
    "    return f\"😁\"\n",
    "\n",
    "\n",
    "mp = map(water, oil)\n",
    "print(list(mp))"
   ]
  }
 ],
 "metadata": {
  "kernelspec": {
   "display_name": "Python 3 (ipykernel)",
   "language": "python",
   "name": "python3"
  },
  "language_info": {
   "codemirror_mode": {
    "name": "ipython",
    "version": 3
   },
   "file_extension": ".py",
   "mimetype": "text/x-python",
   "name": "python",
   "nbconvert_exporter": "python",
   "pygments_lexer": "ipython3",
   "version": "3.12.1"
  }
 },
 "nbformat": 4,
 "nbformat_minor": 5
}
