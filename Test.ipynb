{
 "cells": [
  {
   "cell_type": "code",
   "execution_count": 1,
   "id": "9e73605a-8c31-43fc-957e-52be99661f8e",
   "metadata": {},
   "outputs": [
    {
     "name": "stdout",
     "output_type": "stream",
     "text": [
      "python hello word\n"
     ]
    }
   ],
   "source": [
    "print(\"python hello word\")"
   ]
  },
  {
   "cell_type": "markdown",
   "id": "92a782e8-c480-412d-a50d-b088f42f5013",
   "metadata": {},
   "source": [
    "### Ptyhon test\n",
    "\n",
    "What Markdown means?\n",
    "\r\n",
    "a reduction in the price of something\r\n",
    "Meaning of markdown in English\r\n",
    "\r\n",
    "a reduction in the price of something: We're offering a ten percent markdown on selected items. Price decreases. bargain."
   ]
  },
  {
   "cell_type": "code",
   "execution_count": 2,
   "id": "5d55bc54-9714-444a-96d4-055fc59a2186",
   "metadata": {},
   "outputs": [
    {
     "name": "stdout",
     "output_type": "stream",
     "text": [
      "10\n"
     ]
    }
   ],
   "source": [
    "x = 10\n",
    "print(x)"
   ]
  }
 ],
 "metadata": {
  "kernelspec": {
   "display_name": "Python 3 (ipykernel)",
   "language": "python",
   "name": "python3"
  },
  "language_info": {
   "codemirror_mode": {
    "name": "ipython",
    "version": 3
   },
   "file_extension": ".py",
   "mimetype": "text/x-python",
   "name": "python",
   "nbconvert_exporter": "python",
   "pygments_lexer": "ipython3",
   "version": "3.12.1"
  }
 },
 "nbformat": 4,
 "nbformat_minor": 5
}
