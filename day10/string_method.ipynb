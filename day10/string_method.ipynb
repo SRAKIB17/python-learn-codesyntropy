{
 "cells": [
  {
   "cell_type": "markdown",
   "id": "6d3a52ab",
   "metadata": {},
   "source": [
    "## String format"
   ]
  },
  {
   "cell_type": "code",
   "execution_count": null,
   "id": "45a75022-4b67-4f05-a753-1cbd3a38b863",
   "metadata": {},
   "outputs": [],
   "source": [
    "def dynamic_function(name):\n",
    "    return f\"Hello {name}\"\n",
    "\n",
    "\n",
    "x = dynamic_function(\"python\")\n",
    "print(x)"
   ]
  },
  {
   "cell_type": "code",
   "execution_count": null,
   "id": "fc7829cc",
   "metadata": {},
   "outputs": [],
   "source": [
    "name = \"Rakib\"\n",
    "print(\"My name is %s\" % name)\n",
    "print(\"Python version = %s\" % 3.12)\n",
    "# %s = string\n",
    "# %i = integer\n",
    "# %f = float"
   ]
  },
  {
   "cell_type": "code",
   "execution_count": null,
   "id": "da65a8ca",
   "metadata": {},
   "outputs": [],
   "source": [
    "# Index\n",
    "# 0,1,2,3,4..\n",
    "# Python\n",
    "# left to right\n",
    "# 0, 1, 2, 3\n",
    "# right to left\n",
    "# -1, -2 , -3\n",
    "x = \"Python\""
   ]
  },
  {
   "cell_type": "code",
   "execution_count": null,
   "id": "75ba8651",
   "metadata": {},
   "outputs": [],
   "source": [
    "x = \"My name is {}\"\n",
    "# print(x.format(\"Rakib\"))\n",
    "x = \"My name is {2}. My favorite language is {1}\"\n",
    "# print(x.format('Rakib', \"Python\"))\n",
    "\n",
    "x = \"My name is {name}. My favorite language is {language}\"\n",
    "print(x.format(language=\"Python\", name=\"Rakib\"))"
   ]
  },
  {
   "cell_type": "code",
   "execution_count": null,
   "id": "494301cb",
   "metadata": {},
   "outputs": [],
   "source": [
    "bio = {\n",
    "    \"name\": \"Rakib\",\n",
    "    \"favorite_language\": \"Python\"\n",
    "}\n",
    "x = f\"My name is {bio[\"name\"]} . My favorite language is {\n",
    "    bio['favorite_language']}\"\n",
    "\n",
    "print(x)"
   ]
  },
  {
   "cell_type": "code",
   "execution_count": null,
   "id": "2cf154cb",
   "metadata": {},
   "outputs": [],
   "source": [
    "# Add (+)\n",
    "x = \"Python\"\n",
    "space = \" \"\n",
    "y = \"Language\"\n",
    "# Multiply\n",
    "print(x * 10)"
   ]
  },
  {
   "cell_type": "markdown",
   "id": "08007df0",
   "metadata": {},
   "source": [
    "### Slice"
   ]
  },
  {
   "cell_type": "code",
   "execution_count": null,
   "id": "04c348d9",
   "metadata": {},
   "outputs": [],
   "source": [
    "x = \"Python\"\n",
    "# ! x[include_index : not_include_index]\n",
    "print(x[0:3])"
   ]
  },
  {
   "cell_type": "code",
   "execution_count": null,
   "id": "04f4028f",
   "metadata": {},
   "outputs": [],
   "source": [
    "# Membership operator:\n",
    "print('x' not in x)"
   ]
  },
  {
   "cell_type": "code",
   "execution_count": null,
   "id": "8b579267",
   "metadata": {},
   "outputs": [],
   "source": [
    "x = \"\\rPython is popular language.\\nVersion 3.12.\\\\.\"\n",
    "print(x)"
   ]
  },
  {
   "cell_type": "code",
   "execution_count": null,
   "id": "a0a7c76e",
   "metadata": {},
   "outputs": [],
   "source": [
    "x = '\\bI\\'m a programmer'\n",
    "print(x)"
   ]
  },
  {
   "cell_type": "code",
   "execution_count": null,
   "id": "ee2e6fc7",
   "metadata": {},
   "outputs": [],
   "source": [
    "txt = \"\\x45\"\n",
    "print(txt)"
   ]
  },
  {
   "cell_type": "code",
   "execution_count": null,
   "id": "f036456d",
   "metadata": {},
   "outputs": [],
   "source": [
    "x = \"MY FEVORITE # LANGUAGE#IS PYTHON. #THIS IS #POPULER LANGUAGE\"\n",
    "\n",
    "x.title()"
   ]
  },
  {
   "cell_type": "code",
   "execution_count": null,
   "id": "f9a60387",
   "metadata": {},
   "outputs": [],
   "source": [
    "x = \"MY FEVORITE LANGUAGE IS PYTHON. THIS IS POPULER LANGUAGE\"\n",
    "x.startswith(\"F\", 3, 4)\n",
    "# x.endswith()"
   ]
  },
  {
   "cell_type": "code",
   "execution_count": null,
   "id": "7535cadd",
   "metadata": {},
   "outputs": [],
   "source": [
    "x = input(\"Enter: \")\n",
    "print(x.rstrip())"
   ]
  },
  {
   "cell_type": "code",
   "execution_count": null,
   "id": "93d93315",
   "metadata": {},
   "outputs": [],
   "source": [
    "x.split(\"#\")"
   ]
  },
  {
   "cell_type": "code",
   "execution_count": null,
   "id": "8311b35e",
   "metadata": {},
   "outputs": [],
   "source": [
    "x.index(\"M\")\n",
    "x.rindex(\"PYTHON\")"
   ]
  },
  {
   "cell_type": "code",
   "execution_count": null,
   "id": "3a80b2b8",
   "metadata": {},
   "outputs": [],
   "source": [
    "x.rfind(\"PYTH=N\")\n",
    "# if not find return -1 otherwise index position"
   ]
  },
  {
   "cell_type": "code",
   "execution_count": 56,
   "id": "f8d72698",
   "metadata": {},
   "outputs": [
    {
     "data": {
      "text/plain": [
       "'apple😔banana😔pineapple😔watermelon'"
      ]
     },
     "execution_count": 56,
     "metadata": {},
     "output_type": "execute_result"
    }
   ],
   "source": [
    "x = \"MY FAVORITE LANGUAGE IS PYTHON. THIS IS POPULAR LANGUAGE\"\n",
    "spl = x.split()\n",
    "lst = ['apple', 'banana', 'pineapple', 'watermelon']\n",
    "\n",
    "\"😔\".join(lst)"
   ]
  },
  {
   "cell_type": "code",
   "execution_count": 7,
   "id": "53c95c5f",
   "metadata": {},
   "outputs": [
    {
     "data": {
      "text/plain": [
       "'slfsfskfssfs fsddsdf s python'"
      ]
     },
     "execution_count": 7,
     "metadata": {},
     "output_type": "execute_result"
    }
   ],
   "source": [
    "x = \"python\"\n",
    "x.islower()\n",
    "# istitle, isspace, isdigit, islower, isnumeric\n",
    "\n",
    "x = f\"slfsfskfssfs fsddsdf s {x}\""
   ]
  }
 ],
 "metadata": {
  "kernelspec": {
   "display_name": "Python 3 (ipykernel)",
   "language": "python",
   "name": "python3"
  },
  "language_info": {
   "codemirror_mode": {
    "name": "ipython",
    "version": 3
   },
   "file_extension": ".py",
   "mimetype": "text/x-python",
   "name": "python",
   "nbconvert_exporter": "python",
   "pygments_lexer": "ipython3",
   "version": "3.12.1"
  }
 },
 "nbformat": 4,
 "nbformat_minor": 5
}
