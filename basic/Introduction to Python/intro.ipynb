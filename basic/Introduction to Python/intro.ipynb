{
 "cells": [
  {
   "cell_type": "markdown",
   "id": "dabaa581-6ff7-4461-870e-826b017be42b",
   "metadata": {},
   "source": [
    "### Python"
   ]
  },
  {
   "cell_type": "markdown",
   "id": "93f35c02-b1bb-48da-8948-67ba9c4c2078",
   "metadata": {},
   "source": [
    "1. High level language\n",
    "2. Populer lanaguage\n",
    "3. Ml + AI+Deep learning\n",
    "   \n",
    "   "
   ]
  }
 ],
 "metadata": {
  "kernelspec": {
   "display_name": "Python 3 (ipykernel)",
   "language": "python",
   "name": "python3"
  },
  "language_info": {
   "codemirror_mode": {
    "name": "ipython",
    "version": 3
   },
   "file_extension": ".py",
   "mimetype": "text/x-python",
   "name": "python",
   "nbconvert_exporter": "python",
   "pygments_lexer": "ipython3",
   "version": "3.12.1"
  }
 },
 "nbformat": 4,
 "nbformat_minor": 5
}
