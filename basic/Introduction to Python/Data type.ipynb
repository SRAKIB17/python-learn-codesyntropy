{
 "cells": [
  {
   "cell_type": "code",
   "execution_count": 6,
   "id": "a357e6e1-152c-4079-8701-cbe12bf620ad",
   "metadata": {},
   "outputs": [
    {
     "name": "stdout",
     "output_type": "stream",
     "text": [
      "Python\n",
      "10\n",
      "<class 'str'>\n"
     ]
    }
   ],
   "source": [
    "x = \"Python\"\n",
    "x = 10\n",
    "x = 10.10\n",
    "x = \"2024\"\n",
    "# see data type use type() function\n",
    "\n",
    "print(type(x))"
   ]
  },
  {
   "cell_type": "markdown",
   "id": "db01d9fd-de45-4b86-9f6f-29d123b1d2d5",
   "metadata": {},
   "source": [
    "### Data type\n",
    "1. Number\n",
    "   - Integer\n",
    "   - Float\n",
    "   - Imagine number(complex number)\n",
    "2. String\n",
    "   \n",
    "4. Boolean\n",
    "   <!-- Sequential type -->\n",
    "6. Set\n",
    "7. Dictionary\n",
    "8. Binary type\n",
    "9. list\n",
    "10. tuple"
   ]
  },
  {
   "cell_type": "code",
   "execution_count": 10,
   "id": "0bfceba8-c357-4c3a-8413-0f7bbfc8eed5",
   "metadata": {},
   "outputs": [
    {
     "name": "stdout",
     "output_type": "stream",
     "text": [
      "(20+10j)\n"
     ]
    }
   ],
   "source": [
    "# Number\n",
    "x = 10\n",
    "x = 10.10001\n",
    "x = 20+10j\n"
   ]
  },
  {
   "cell_type": "code",
   "execution_count": 16,
   "id": "81475998-e03c-4956-8f5b-c38b148822f2",
   "metadata": {},
   "outputs": [
    {
     "data": {
      "text/plain": [
       "'\\nEasily extend your models with pre and post-\\nprocessing operations, or replace operations with\\ncustom ones. Take advantage of kernel fusion,\\n'"
      ]
     },
     "execution_count": 16,
     "metadata": {},
     "output_type": "execute_result"
    }
   ],
   "source": [
    "# String\n",
    "toper = \"Prome\"\n",
    "x = 'Python'\n",
    "x = \"Python\"\n",
    "# Multiline \n",
    "\"\"\"\n",
    "Easily extend your models with pre and post-\n",
    "processing operations, or replace operations with\n",
    "custom ones. Take advantage of kernel fusion,\n",
    "\"\"\"\n"
   ]
  },
  {
   "cell_type": "code",
   "execution_count": 19,
   "id": "e8dbd720-ff4a-47e2-bc96-edcd1996d72f",
   "metadata": {},
   "outputs": [
    {
     "name": "stdout",
     "output_type": "stream",
     "text": [
      "False\n"
     ]
    }
   ],
   "source": [
    "x = True\n",
    "x = False\n",
    "print(x)"
   ]
  },
  {
   "cell_type": "code",
   "execution_count": null,
   "id": "05513ef7-07af-46bc-abe5-685e6ed74c1a",
   "metadata": {},
   "outputs": [],
   "source": [
    "# Set\n",
    "x = {\n",
    "    1,2,3,4,5,6,7\n",
    "}"
   ]
  },
  {
   "cell_type": "code",
   "execution_count": 23,
   "id": "7d27793d-3cee-4f6c-bd24-edaa2930ea69",
   "metadata": {},
   "outputs": [
    {
     "name": "stdout",
     "output_type": "stream",
     "text": [
      "<class 'dict'>\n"
     ]
    }
   ],
   "source": [
    "# Dict\n",
    "x = {\n",
    "    \"name\": \"Rakib\"\n",
    "}\n",
    "print(type(x))"
   ]
  },
  {
   "cell_type": "code",
   "execution_count": 27,
   "id": "f53ad692-6c31-47d6-aed6-c7c26a1493e4",
   "metadata": {},
   "outputs": [
    {
     "name": "stdout",
     "output_type": "stream",
     "text": [
      "['apple', 'Pen', '20$', True, False, 10, (10+10j)]\n"
     ]
    }
   ],
   "source": [
    "# List\n",
    "basket = [\"apple\", \"Pen\", \"20$\", True, False, 10,10+10j ]\n",
    "print(basket)\n",
    "#Array \n",
    "arr = [\"same data type\"]\n"
   ]
  },
  {
   "cell_type": "code",
   "execution_count": 29,
   "id": "d0a5d5f1-38a8-402a-9194-e9b400c62e44",
   "metadata": {},
   "outputs": [
    {
     "name": "stdout",
     "output_type": "stream",
     "text": [
      "<class 'tuple'>\n"
     ]
    }
   ],
   "source": [
    "# tuple\n",
    "x = (\"apple\", \"Pen\", \"20$\", True, False, 10,10+10j )\n",
    "print(type(x))"
   ]
  },
  {
   "cell_type": "markdown",
   "id": "d321f136-f96e-4970-8e99-41f5d6fb5812",
   "metadata": {},
   "source": [
    "1. List = `[]`\n",
    "2. Tupple = `()`\n",
    "3. Dictionary = `{\"key\":\"value\"}`\n",
    "4. Set = {}"
   ]
  }
 ],
 "metadata": {
  "kernelspec": {
   "display_name": "Python 3 (ipykernel)",
   "language": "python",
   "name": "python3"
  },
  "language_info": {
   "codemirror_mode": {
    "name": "ipython",
    "version": 3
   },
   "file_extension": ".py",
   "mimetype": "text/x-python",
   "name": "python",
   "nbconvert_exporter": "python",
   "pygments_lexer": "ipython3",
   "version": "3.12.1"
  }
 },
 "nbformat": 4,
 "nbformat_minor": 5
}
