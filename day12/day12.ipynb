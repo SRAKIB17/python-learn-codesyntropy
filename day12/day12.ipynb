{
 "cells": [
  {
   "cell_type": "markdown",
   "id": "f3932311",
   "metadata": {},
   "source": [
    "# Quiz problem solved\n",
    "\n",
    "- [ ] fls"
   ]
  },
  {
   "cell_type": "code",
   "execution_count": 3,
   "id": "a2005f85",
   "metadata": {},
   "outputs": [
    {
     "name": "stdout",
     "output_type": "stream",
     "text": [
      "{'name': 'python'}\n"
     ]
    }
   ],
   "source": [
    "\n",
    "def my_function(**args):\n",
    "    print(args)\n",
    "\n",
    "\n",
    "my_function(name=\"python\")"
   ]
  },
  {
   "cell_type": "code",
   "execution_count": 20,
   "id": "c624106f",
   "metadata": {},
   "outputs": [
    {
     "name": "stdout",
     "output_type": "stream",
     "text": [
      "NameError error\n"
     ]
    }
   ],
   "source": [
    "x = {\n",
    "    \"name\": \"Python\",\n",
    "}\n",
    "\n",
    "u_input = input(\"ENter key: \")\n",
    "try:\n",
    "    if (True):\n",
    "        fslfsdfl\n",
    "except:\n",
    "    print(\"Something ir wrong, Key name not found\")"
   ]
  },
  {
   "cell_type": "code",
   "execution_count": 6,
   "id": "1bcd9568",
   "metadata": {},
   "outputs": [
    {
     "name": "stdout",
     "output_type": "stream",
     "text": [
      "10\n"
     ]
    }
   ],
   "source": [
    "\n",
    "\n",
    "def test():\n",
    "    global x\n",
    "    x = 10\n",
    "\n",
    "\n",
    "test()\n",
    "print(x)"
   ]
  }
 ],
 "metadata": {
  "kernelspec": {
   "display_name": "Python 3 (ipykernel)",
   "language": "python",
   "name": "python3"
  },
  "language_info": {
   "codemirror_mode": {
    "name": "ipython",
    "version": 3
   },
   "file_extension": ".py",
   "mimetype": "text/x-python",
   "name": "python",
   "nbconvert_exporter": "python",
   "pygments_lexer": "ipython3",
   "version": "3.12.1"
  }
 },
 "nbformat": 4,
 "nbformat_minor": 5
}
