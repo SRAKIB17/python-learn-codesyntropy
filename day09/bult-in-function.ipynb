{
 "cells": [
  {
   "cell_type": "markdown",
   "id": "a9db4bcc",
   "metadata": {},
   "source": [
    "# Built-in Function"
   ]
  },
  {
   "cell_type": "code",
   "execution_count": 5,
   "id": "571c7625",
   "metadata": {},
   "outputs": [
    {
     "data": {
      "text/plain": [
       "10000"
      ]
     },
     "execution_count": 5,
     "metadata": {},
     "output_type": "execute_result"
    }
   ],
   "source": [
    "abs(-10000)"
   ]
  },
  {
   "cell_type": "code",
   "execution_count": 17,
   "id": "19f50b8b",
   "metadata": {},
   "outputs": [
    {
     "data": {
      "text/plain": [
       "False"
      ]
     },
     "execution_count": 17,
     "metadata": {},
     "output_type": "execute_result"
    }
   ],
   "source": [
    "x = [False, False, False]\n",
    "all(x)"
   ]
  },
  {
   "cell_type": "code",
   "execution_count": 14,
   "id": "6d00c59f",
   "metadata": {},
   "outputs": [
    {
     "data": {
      "text/plain": [
       "False"
      ]
     },
     "execution_count": 14,
     "metadata": {},
     "output_type": "execute_result"
    }
   ],
   "source": [
    "any(x)"
   ]
  },
  {
   "cell_type": "code",
   "execution_count": 21,
   "id": "adffa474",
   "metadata": {},
   "outputs": [
    {
     "name": "stdout",
     "output_type": "stream",
     "text": [
      "My name is Stæle\n"
     ]
    }
   ],
   "source": [
    "x = 'My name is St\\xe6le'\n",
    "print(x)"
   ]
  },
  {
   "cell_type": "code",
   "execution_count": 28,
   "id": "17cdf70a",
   "metadata": {},
   "outputs": [
    {
     "name": "stdout",
     "output_type": "stream",
     "text": [
      "50 binary value = 110010\n"
     ]
    }
   ],
   "source": [
    "u = int(input(\"ENter number\"))\n",
    "x = bin(u)\n",
    "print(f\"{u} binary value = {x.split(\"0b\")[1]}\")"
   ]
  },
  {
   "cell_type": "code",
   "execution_count": 32,
   "id": "2e1f70b3",
   "metadata": {},
   "outputs": [
    {
     "data": {
      "text/plain": [
       "True"
      ]
     },
     "execution_count": 32,
     "metadata": {},
     "output_type": "execute_result"
    }
   ],
   "source": [
    "bool(' ')"
   ]
  },
  {
   "cell_type": "code",
   "execution_count": 51,
   "id": "c695d877",
   "metadata": {},
   "outputs": [
    {
     "data": {
      "text/plain": [
       "'3'"
      ]
     },
     "execution_count": 51,
     "metadata": {},
     "output_type": "execute_result"
    }
   ],
   "source": [
    "# asci to string\n",
    "chr(51)"
   ]
  },
  {
   "cell_type": "code",
   "execution_count": 58,
   "id": "9be085c7",
   "metadata": {},
   "outputs": [
    {
     "name": "stdout",
     "output_type": "stream",
     "text": [
      "True\n"
     ]
    }
   ],
   "source": [
    "def function():\n",
    "    pass\n",
    "\n",
    "\n",
    "x = 'python'\n",
    "print(callable(function))"
   ]
  },
  {
   "cell_type": "code",
   "execution_count": 69,
   "id": "a7842e8a",
   "metadata": {},
   "outputs": [
    {
     "name": "stdout",
     "output_type": "stream",
     "text": [
      "hello word\n"
     ]
    }
   ],
   "source": [
    "u = \"print('hello word')\"\n",
    "x = compile(u, \"test\", 'eval')\n",
    "exec(x)"
   ]
  },
  {
   "cell_type": "code",
   "execution_count": 72,
   "id": "bcf60726",
   "metadata": {},
   "outputs": [
    {
     "data": {
      "text/plain": [
       "(10+10j)"
      ]
     },
     "execution_count": 72,
     "metadata": {},
     "output_type": "execute_result"
    }
   ],
   "source": [
    "x = complex(10+10j)\n",
    "x"
   ]
  },
  {
   "cell_type": "code",
   "execution_count": 78,
   "id": "b5a5d25f",
   "metadata": {},
   "outputs": [
    {
     "name": "stdout",
     "output_type": "stream",
     "text": [
      "<class 'str'>\n"
     ]
    }
   ],
   "source": [
    "x = dict()\n",
    "x = \"python\"\n",
    "print(type(x))"
   ]
  },
  {
   "cell_type": "code",
   "execution_count": 81,
   "id": "b248821e",
   "metadata": {},
   "outputs": [],
   "source": [
    "import requests\n",
    "# dir(requests)"
   ]
  },
  {
   "cell_type": "code",
   "execution_count": 82,
   "id": "2b9d8256",
   "metadata": {},
   "outputs": [
    {
     "data": {
      "text/plain": [
       "10.0"
      ]
     },
     "execution_count": 82,
     "metadata": {},
     "output_type": "execute_result"
    }
   ],
   "source": [
    "float(10)"
   ]
  },
  {
   "cell_type": "code",
   "execution_count": 96,
   "id": "c8936e8a",
   "metadata": {},
   "outputs": [
    {
     "name": "stdout",
     "output_type": "stream",
     "text": [
      "['apple', 'Apple', 'Lemon', 'Grape', 'Mango']\n"
     ]
    }
   ],
   "source": [
    "x = ['apple', 'banana', 'Orange', \"Apple\", \"Lemon\",\n",
    "     \"Banana\", \"Grape\", \"Mango\", \"Strawberry\"'Cherry']\n",
    "\n",
    "\n",
    "# def fltr_function(item):\n",
    "#     return len(item) == 6\n",
    "\n",
    "\n",
    "fltr = filter(lambda item: len(item) == 5, x)\n",
    "\n",
    "print(list(fltr))"
   ]
  },
  {
   "cell_type": "code",
   "execution_count": 92,
   "id": "549b759a",
   "metadata": {},
   "outputs": [
    {
     "name": "stdout",
     "output_type": "stream",
     "text": [
      "['apple', 'Apple', 'Lemon', 'Grape', 'Mango']\n"
     ]
    }
   ],
   "source": [
    "# For loop\n",
    "x = ['apple', 'banana', 'Orange', \"Apple\", \"Lemon\",\n",
    "     \"Banana\", \"Grape\", \"Mango\", \"Strawberry\"'Cherry']\n",
    "\n",
    "fltr = []\n",
    "for i in x:\n",
    "    if (len(i) == 5):\n",
    "        fltr.append(i)\n",
    "\n",
    "print(fltr)"
   ]
  },
  {
   "cell_type": "code",
   "execution_count": 94,
   "id": "cc1b217d",
   "metadata": {},
   "outputs": [
    {
     "name": "stdout",
     "output_type": "stream",
     "text": [
      "<class 'function'>\n"
     ]
    }
   ],
   "source": [
    "# lambda keyword for Anonymous function\n",
    "def x(a): return a\n",
    "def x(a): return a\n",
    "\n",
    "\n",
    "print(type(x))"
   ]
  }
 ],
 "metadata": {
  "kernelspec": {
   "display_name": "Python 3 (ipykernel)",
   "language": "python",
   "name": "python3"
  },
  "language_info": {
   "codemirror_mode": {
    "name": "ipython",
    "version": 3
   },
   "file_extension": ".py",
   "mimetype": "text/x-python",
   "name": "python",
   "nbconvert_exporter": "python",
   "pygments_lexer": "ipython3",
   "version": "3.12.1"
  }
 },
 "nbformat": 4,
 "nbformat_minor": 5
}
