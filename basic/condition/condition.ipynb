{
 "cells": [
  {
   "cell_type": "markdown",
   "id": "f99a52f3-9c24-49bb-9e46-ce9cd914bafc",
   "metadata": {},
   "source": [
    "x = 10"
   ]
  },
  {
   "cell_type": "code",
   "execution_count": 1,
   "id": "b2285152",
   "metadata": {},
   "outputs": [
    {
     "name": "stdout",
     "output_type": "stream",
     "text": [
      "A+\n"
     ]
    }
   ],
   "source": [
    "eng = 80\n",
    "\n",
    "if(eng >= 80):\n",
    "    print('A+')\n",
    "elif(eng>=70):\n",
    "    print(\"A\")\n",
    "elif(eng>=60):\n",
    "    print(\"B\")\n",
    "else:\n",
    "    print(\"x is not equal to 10\")\n"
   ]
  }
 ],
 "metadata": {
  "kernelspec": {
   "display_name": "Python 3 (ipykernel)",
   "language": "python",
   "name": "python3"
  },
  "language_info": {
   "codemirror_mode": {
    "name": "ipython",
    "version": 3
   },
   "file_extension": ".py",
   "mimetype": "text/x-python",
   "name": "python",
   "nbconvert_exporter": "python",
   "pygments_lexer": "ipython3",
   "version": "3.12.1"
  }
 },
 "nbformat": 4,
 "nbformat_minor": 5
}
