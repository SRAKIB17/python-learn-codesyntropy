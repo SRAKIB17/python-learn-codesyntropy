{
 "cells": [
  {
   "cell_type": "markdown",
   "id": "b92b30a3",
   "metadata": {},
   "source": [
    "## Advanced Function"
   ]
  },
  {
   "cell_type": "markdown",
   "id": "4d099fe3",
   "metadata": {},
   "source": [
    "### Type of argument\n",
    "1. **Default**\n",
    "2. **Keyword**\n",
    "3. **Position**\n",
    "4. **Arbitrary**\n"
   ]
  },
  {
   "cell_type": "code",
   "execution_count": 41,
   "id": "ec5d0b2f",
   "metadata": {},
   "outputs": [
    {
     "ename": "SyntaxError",
     "evalue": "parameter without a default follows parameter with a default (2855771765.py, line 2)",
     "output_type": "error",
     "traceback": [
      "\u001b[1;36m  Cell \u001b[1;32mIn[41], line 2\u001b[1;36m\u001b[0m\n\u001b[1;33m    def function(version=3.12, name):\u001b[0m\n\u001b[1;37m                               ^\u001b[0m\n\u001b[1;31mSyntaxError\u001b[0m\u001b[1;31m:\u001b[0m parameter without a default follows parameter with a default\n"
     ]
    }
   ],
   "source": [
    "# Default:\n",
    "def function(version=3.12, name=\"python\"):\n",
    "    print(f\"{name}, {version}\")\n",
    "\n",
    "\n",
    "function(4.40, \"python\")"
   ]
  },
  {
   "cell_type": "code",
   "execution_count": 15,
   "id": "4f14e5da",
   "metadata": {},
   "outputs": [
    {
     "name": "stdout",
     "output_type": "stream",
     "text": [
      "Python, 4.4\n"
     ]
    }
   ],
   "source": [
    "def function(version=3.12, name=\"python\"):\n",
    "    print(f\"{name}, {version}\")\n",
    "\n",
    "\n",
    "function(name=\"Python\", version=4.40)"
   ]
  },
  {
   "cell_type": "code",
   "execution_count": 17,
   "id": "f0c355c4",
   "metadata": {},
   "outputs": [
    {
     "name": "stdout",
     "output_type": "stream",
     "text": [
      "Hi, I'm 40\n",
      "My age is RAKIB\n"
     ]
    }
   ],
   "source": [
    "# ? Position argument\n",
    "def namaAge(name, age):\n",
    "    print(f\"Hi, I'm {name}\")\n",
    "    print(f\"My age is {age}\")\n",
    "\n",
    "\n",
    "# namaAge(40, \"RAKIB\")"
   ]
  },
  {
   "cell_type": "code",
   "execution_count": 25,
   "id": "8ab10a00",
   "metadata": {},
   "outputs": [
    {
     "name": "stdout",
     "output_type": "stream",
     "text": [
      "a\n",
      "x\n",
      "y\n",
      "z\n"
     ]
    }
   ],
   "source": [
    "# *args\n",
    "def testing(*args):\n",
    "    for i in args:\n",
    "        print(i)\n",
    "\n",
    "\n",
    "testing(\"a\", \"x\", \"y\", \"z\")"
   ]
  },
  {
   "cell_type": "markdown",
   "id": "5ec90b71",
   "metadata": {},
   "source": [
    "1. arg => *\n",
    "2. tuple "
   ]
  },
  {
   "cell_type": "code",
   "execution_count": 32,
   "id": "c5ad3dd7",
   "metadata": {},
   "outputs": [
    {
     "name": "stdout",
     "output_type": "stream",
     "text": [
      "{'name': 'python', 'version': 3.12, 'popular': 2}\n"
     ]
    }
   ],
   "source": [
    "\n",
    "def testing(**kwargs):\n",
    "    print(kwargs)\n",
    "    # for i in args:\n",
    "    #     print(i)\n",
    "\n",
    "\n",
    "testing(name=\"python\", version=3.12, popular=2)"
   ]
  },
  {
   "cell_type": "markdown",
   "id": "b7eb97ef",
   "metadata": {},
   "source": [
    "1. return dictionary\n",
    "2. **kwargs"
   ]
  },
  {
   "cell_type": "code",
   "execution_count": 36,
   "id": "c9907bcf",
   "metadata": {},
   "outputs": [
    {
     "name": "stdout",
     "output_type": "stream",
     "text": [
      "{'name': 'python', 'version': 3.12, 'popular': 2}\n",
      "(43543, 53455)\n"
     ]
    }
   ],
   "source": [
    "\n",
    "def testing(*args, **kwargs):\n",
    "    print(kwargs)\n",
    "    print(args)\n",
    "    # for i in args:\n",
    "    #     print(i)\n",
    "\n",
    "\n",
    "testing(43543, 53455, name=\"python\", version=3.12, popular=2)"
   ]
  },
  {
   "cell_type": "code",
   "execution_count": 40,
   "id": "9b7f72a5",
   "metadata": {},
   "outputs": [],
   "source": [
    "def x(a, b): return a+b\n",
    "# x = lambda a, b: a+b\n",
    "\n",
    "\n",
    "x(10, 20)"
   ]
  }
 ],
 "metadata": {
  "kernelspec": {
   "display_name": "Python 3 (ipykernel)",
   "language": "python",
   "name": "python3"
  },
  "language_info": {
   "codemirror_mode": {
    "name": "ipython",
    "version": 3
   },
   "file_extension": ".py",
   "mimetype": "text/x-python",
   "name": "python",
   "nbconvert_exporter": "python",
   "pygments_lexer": "ipython3",
   "version": "3.12.1"
  }
 },
 "nbformat": 4,
 "nbformat_minor": 5
}
