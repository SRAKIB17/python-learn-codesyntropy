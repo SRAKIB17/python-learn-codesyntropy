{
 "cells": [
  {
   "cell_type": "code",
   "execution_count": 19,
   "id": "1b2669a1-cf00-4316-bbfb-03fbdcc01621",
   "metadata": {},
   "outputs": [
    {
     "name": "stdout",
     "output_type": "stream",
     "text": [
      "'x='\n",
      "'Python'\n",
      "100\n"
     ]
    }
   ],
   "source": [
    "from keyword import kwlist\n",
    "from pprint import pprint as print\n",
    "# print(kwlist)\n",
    "# No keword\n",
    "# Not allow number\n",
    "# Specail car not allow\n",
    "# A-Z\n",
    "# A-0-19-z\n",
    "x1 = 10\n",
    "x_x = 10\n",
    "x = 10\n",
    "x = 10\n",
    "y = 100\n",
    "z = 2000\n",
    "# case sensitvie\n",
    "x = 10\n",
    "X = 100\n",
    "myName = \"RAKIB\"\n",
    "print(\"x=\")\n",
    "print(\"Python\")\n",
    "print(100)\n"
   ]
  },
  {
   "cell_type": "code",
   "execution_count": 23,
   "id": "3457077c-b2fa-4289-a686-3acf27f9011b",
   "metadata": {},
   "outputs": [
    {
     "name": "stdout",
     "output_type": "stream",
     "text": [
      "<class 'float'>\n"
     ]
    }
   ],
   "source": [
    "x = \"Python\"\n",
    "x = 10.10\n",
    "print(type(x))"
   ]
  }
 ],
 "metadata": {
  "kernelspec": {
   "display_name": "Python 3 (ipykernel)",
   "language": "python",
   "name": "python3"
  },
  "language_info": {
   "codemirror_mode": {
    "name": "ipython",
    "version": 3
   },
   "file_extension": ".py",
   "mimetype": "text/x-python",
   "name": "python",
   "nbconvert_exporter": "python",
   "pygments_lexer": "ipython3",
   "version": "3.12.1"
  }
 },
 "nbformat": 4,
 "nbformat_minor": 5
}
